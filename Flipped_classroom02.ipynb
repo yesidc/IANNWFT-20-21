{
 "cells": [
  {
   "cell_type": "markdown",
   "metadata": {
    "id": "8D0HUwWAEKeM"
   },
   "source": [
    "## Perceptron Logical Gates\n",
    "\n",
    "In this notebook we train a perceptron (just a single neuron) to solve logical gates. \n",
    "\n",
    "That means, e.g. for the AND gate, if we put in a 0 and a 1, the perceptron should output 0. It should only output 1 if the input was (1,1).\n",
    "\n",
    "For the XOR gate, the Perceptron should return 1 if only one of the inputs was 1 and the other one 0 -->  (0,1) or (1,0). For (0,0) and (1,1) it should return 0.\n",
    "\n",
    "And so on..."
   ]
  },
  {
   "cell_type": "code",
   "execution_count": 1,
   "metadata": {
    "id": "7euT0HdQEKeR"
   },
   "outputs": [],
   "source": [
    "# Not using any tf libraries so far...\n",
    "import numpy as np \n",
    "import math"
   ]
  },
  {
   "cell_type": "code",
   "execution_count": 2,
   "metadata": {
    "id": "8bO7NpCDEKej"
   },
   "outputs": [],
   "source": [
    "# To make sure that you get the implementation right let us first have a look at the data structure.\n",
    "# These are the four possible input pairs of (x1,x2).\n",
    "x = np.array([[0,0],\n",
    "              [0,1],\n",
    "              [1,0],\n",
    "              [1,1]])\n",
    "# These are possible labels form some logical gates.\n",
    "t_and = np.array([0,0,0,1])#using and, all are false, 0, but one of them\n",
    "t_or = np.array([0,1,1,1])# using or, all of them are true ,1, but one of them\n",
    "t_nand = np.array([1,1,1,0])\n",
    "t_nor = np.array([1,0,0,0])\n",
    "t_xor = np.array([0,1,1,0])"
   ]
  },
  {
   "cell_type": "markdown",
   "metadata": {
    "id": "0_PT3Q_gEKer"
   },
   "source": [
    "#### Implement Perceptron."
   ]
  },
  {
   "cell_type": "code",
   "execution_count": 3,
   "metadata": {
    "id": "pDWFmomzEKet"
   },
   "outputs": [],
   "source": [
    "# To make you familiar with classes we will implement the perceptron as a class.\n",
    "# Check https://docs.python.org/3/tutorial/classes.html if you need basic help with python classes.\n",
    "\n",
    "class Perceptron:\n",
    "    \n",
    "    def __init__(self, input_units):\n",
    "        self.input_units = input_units\n",
    "        self.sigmoid=0\n",
    "        # 1. Initialize random weights and a random bias term. Check 'np.random.randn()'.\n",
    "        self.weights = np.random.randn(input_units)\n",
    "        \n",
    "\n",
    "        self.bias = np.random.randn() #it's a bias per neuron,thus we only need one, this is the code for a percetron\n",
    "        # 2. Define the learning rate as 0.01.\n",
    "        self.alpha = 1\n",
    "        \n",
    "    def forward_step(self, input):\n",
    "        # Perform a perceptron forward step.\n",
    "        # 1. Calculate the drive. You can use @ as a matrix multiplication command.\n",
    "        weighted_sum =  self.weights @ input + self.bias \n",
    "        print(weighted_sum)\n",
    "        #implementing sigmoid as an activation function.\n",
    "        self.sigmoid=1/(1+math.exp(-weighted_sum))\n",
    "        \n",
    "        return self.sigmoid\n",
    "        \n",
    "        \"\"\"\"\n",
    "        # 2. Return a 1 or a 0, depending on whether the perceptron surpassed the threshold. \n",
    "        # You can use 'int(...)' to make an integer out of a boolean.\n",
    "        #the inputs of the neuron would be the activations in the l-1 layer of that neuron\n",
    "        self.input_activation= input\n",
    "        return int(weighted_sum >= 0)\n",
    "        \"\"\"\n",
    "    def sigmoid_prime(self):\n",
    "        derivative_sigmoid=self.sigmoid*(1-self.sigmoid)\n",
    "        return derivative_sigmoid\n",
    "    \n",
    "    def update(self,delta,activation):\n",
    "        #compute the error (which is just a scalar) times all the activations, which is \n",
    "        #a vector.are the activations in the layer l-1 just the inputs of the \n",
    "        #perceptron???\n",
    "        #RECALL! every layer perceptron has as many weights as activations the previous\n",
    "        #layer has\n",
    "        print('hi')\n",
    "        print(activation)\n",
    "        print(delta)\n",
    "      \n",
    "        gradient_weights= delta*activation\n",
    "        new_weights= self.weights-(self.alpha*gradient_weights)\n",
    "        #update weights\n",
    "        self.weights=new_weights\n",
    "    \n",
    "    \n",
    "    def training_step(self, input, label):\n",
    "        # Perform a whole training step (including the forward step).\n",
    "        # 1. Forward step.\n",
    "        prediction = self.forward_step(input)\n",
    "        # 2. Calculate the weight updates.\n",
    "        delta_weights = self.alpha * (label - prediction) * input\n",
    "        # 3. Calculate the bias update. We consider 1 as the \"input\" to the bias, so that we can treat it just like the other weights.\n",
    "        delta_bias = self.alpha * (label - prediction) * 1\n",
    "        # 4. Update weights and bias.\n",
    "        self.weights += delta_weights\n",
    "        self.bias += delta_bias\n"
   ]
  },
  {
   "cell_type": "code",
   "execution_count": 75,
   "metadata": {},
   "outputs": [
    {
     "name": "stdout",
     "output_type": "stream",
     "text": [
      "0.9820137900379085\n",
      "0.017662706213291107\n"
     ]
    }
   ],
   "source": [
    "#DON'T PAY ATTENTION TO THIS\n",
    "weighted_sum=4\n",
    "empty_a= np.array([])\n",
    "for i in range(3):\n",
    "    empty_a=np.append(empty_a,Perceptron(2))\n",
    "sigmoid=1/(1+math.exp(-weighted_sum))\n",
    "derivative_sigmoid=sigmoid*(1-sigmoid)\n",
    "print(sigmoid)\n",
    "print(derivative_sigmoid)"
   ]
  },
  {
   "cell_type": "code",
   "execution_count": 64,
   "metadata": {},
   "outputs": [
    {
     "name": "stdout",
     "output_type": "stream",
     "text": [
      "[ 1.12243375 -1.58766422]\n",
      "[0.72325381 0.15081959]\n",
      "[-0.85217053 -0.28496953]\n"
     ]
    }
   ],
   "source": [
    "#DON'T PAY ATTENTION TO THIS\n",
    "for j in range(3):\n",
    "    print(empty_a[j].weights)"
   ]
  },
  {
   "cell_type": "code",
   "execution_count": 5,
   "metadata": {},
   "outputs": [],
   "source": [
    "class MLP:\n",
    "    def __init__(self, hidden_layer, num_perceptrons,input):\n",
    "        #FOWARD IMPLIMENTATION\n",
    "        #label takes in the desired output for some specific input\n",
    "    \n",
    "        #self.label=label\n",
    "        self.input=input\n",
    "        self.hidden_layer=hidden_layer\n",
    "        self.num_perceptrons=num_perceptrons\n",
    "        #we need 8 weights, since I have 2 inputs and 4 perceptrons, I have to call forward_step\n",
    "        #4 times, so that I can compute the the activation for each perceptron\n",
    "        #this array stores the activation of the neurons\n",
    "        self.activation=np.array([])\n",
    "        #this array stores the weights for each neuron\n",
    "        self.weights_per_percep=np.array([])\n",
    "        #this loop creates as many Perceptron objects as needed, and they're stored in\n",
    "        #weights_per_percep. These are all the perceptrons of the hidden layer\n",
    "        for j in range(4):\n",
    "            #remember that the number Perceptron(2) pass to the Perceptron class\n",
    "            #indicates the numbers of weights each perceptron needs\n",
    "            self.weights_per_percep=np.append(self.weights_per_percep,Perceptron(2))\n",
    "        #this loop takes each object from the weights_per_percep array, and calls the\n",
    "        #function foward_step\n",
    "        for i in range(4):\n",
    "            #calculate the activations for each perceptron \n",
    "            self.activation=np.append(self.activation,self.weights_per_percep[i].forward_step(input))\n",
    "        print(self.activation)\n",
    "        #I am using this len(activation), because for the output layer I need as many \n",
    "        #weights as activations the previus layer had. \n",
    "        #output_perceptron_weights is the last perceptron, and as such it is an object\n",
    "        self.output_perceptron_weights=Perceptron(len(self.activation))\n",
    "        self.activation_output_percep= self.output_perceptron_weights.forward_step(self.activation)\n",
    "        print(self.activation_output_percep)\n",
    "    def foward_mlp(input_foward):\n",
    "        for i in rage(len(self.weights_per_percep)):\n",
    "            self.weights_per_percep.forward_step(input_foward)\n",
    "\n",
    "   \n",
    "    def backprop_step(self,labels,inputs):\n",
    "        print(self.activation)\n",
    "        #to compute delta you need the derivative of the sigmoid, this one must be\n",
    "        #calculated in Peceptron class function foward_step, since that function has\n",
    "        #access to the net input needed to compute the derivative of the sigmoid\n",
    "        delta_output_layer=(labels - self.activation_output_percep)*self.output_perceptron_weights.sigmoid_prime()\n",
    "        print(delta_output_layer)\n",
    "        #pass the error to the update function, the function has to be called on the object\n",
    "        #output_perceptron_weights, because I want to update the weights that belong to that\n",
    "        #specific object.\n",
    "        self.output_perceptron_weights.update(delta_output_layer,self.activation)\n",
    "        \n",
    "        #this code below computes the error for the perceptrons in the hidden layer\n",
    "        \n",
    "        for j in range(len( self.weights_per_percep)):\n",
    "            perceptron_weight=self.weights_per_percep[j].weights[j]\n",
    "            print('this is the perceptron weight: '+str(perceptron_weight))\n",
    "            derivative=self.weights_per_percep[j].sigmoid_prime()\n",
    "            print(derivative)\n",
    "            delta_hidden_layer=delta_output_layer*perceptron_weight*derivative\n",
    "            print('this is the error of the hidden layer'+str(delta_hidden_layer))\n",
    "            self.weights_per_percep[j].update(delta_hidden_layer,inputs)\n",
    "\n",
    " "
   ]
  },
  {
   "cell_type": "code",
   "execution_count": 6,
   "metadata": {},
   "outputs": [
    {
     "name": "stdout",
     "output_type": "stream",
     "text": [
      "1.9146862273385623\n",
      "3.5103717823961147\n",
      "0.8609235369208714\n",
      "-3.2065946268032977\n",
      "[0.87154471 0.97098144 0.70285357 0.03891831]\n",
      "1.5894942886707097\n",
      "0.8305449411292797\n"
     ]
    }
   ],
   "source": [
    "input_test=np.array([4,5])\n",
    "t=MLP(1,1,input_test)\n",
    "#t.backprop_step([[1]],input_test)"
   ]
  },
  {
   "cell_type": "code",
   "execution_count": null,
   "metadata": {},
   "outputs": [],
   "source": [
    "#x = np.array([[0,0],[0,1],[1,0],[1,1]])\n",
    "# Now let's train the perceptron.\n",
    "\n",
    "# Choose which target you want to train on.\n",
    "t = t_and\n",
    "# Initialize a perceptron. A new object is created using the clas Perceptron\n",
    "multilayer = MLP(1,1,)\n",
    "# Initialize lists to store steps and performance.\n",
    "steps = []\n",
    "accuracies = []\n",
    "\n",
    "# We train for 500 steps.\n",
    "for i in range(500):\n",
    "    steps.append(i)\n",
    "    \n",
    "    # 1. Draw a random sample from x and the corresponding t. Check 'np.random.randint'.\n",
    "    index = np.random.randint(len(x))\n",
    "    #the index of the sample is the same as the index of the labeel. \n",
    "    sample = x[index]\n",
    "    label = t[index]\n",
    "    # 2. Perform a training step.\n",
    "    perceptron.training_step(sample, label)\n",
    "    \n",
    "    # Calculate the performance over all four possible inputs.\n",
    "    accuracy_sum = 0\n",
    "    for k in range(len(x)):\n",
    "        #bear in mind that the forward_step function runs with the newly updated weigths\n",
    "        #that's why it makes to calculate the accuracy. So we're taking all the \n",
    "        #possible inputs, and then we make predictions with these newly updated weights\n",
    "        output = perceptron.forward_step(x[k])   # feed each input to the perceptron (only foward step!)\n",
    "        accuracy_sum += int(output == t[k])  # this turns true if the perceptron gave the right output --> then adds 1 \n",
    "    accuracy = accuracy_sum / 4                  # we divide through all the training examples\n",
    "    accuracies.append(accuracy)"
   ]
  },
  {
   "cell_type": "markdown",
   "metadata": {
    "id": "Q7cSOPUIfjzD"
   },
   "source": [
    "Note that we are **adding** the weights/biases, because we are using the Perceptron Learning rule and **not Gradient Descent**!\n",
    "\n",
    "#### Perceptron Learning Rule Recap:\n",
    "$$w_i^{new} = w_i^{old} + \\Delta w_i  $$\n",
    "$$\\Delta w_i = \\alpha*  (t-y) *x_i $$"
   ]
  },
  {
   "cell_type": "markdown",
   "metadata": {
    "id": "DrnCRFB0EKe1"
   },
   "source": [
    "#### Train on AND gate."
   ]
  },
  {
   "cell_type": "code",
   "execution_count": 18,
   "metadata": {
    "id": "rZ0Bll4-EKe2"
   },
   "outputs": [],
   "source": [
    "#x = np.array([[0,0],[0,1],[1,0],[1,1]])\n",
    "# Now let's train the perceptron.\n",
    "\n",
    "# Choose which target you want to train on.\n",
    "t = t_and\n",
    "# Initialize a perceptron. A new object is created using the clas Perceptron\n",
    "perceptron = Perceptron(2)\n",
    "# Initialize lists to store steps and performance.\n",
    "steps = []\n",
    "accuracies = []\n",
    "\n",
    "# We train for 500 steps.\n",
    "for i in range(500):\n",
    "    steps.append(i)\n",
    "    \n",
    "    # 1. Draw a random sample from x and the corresponding t. Check 'np.random.randint'.\n",
    "    index = np.random.randint(len(x))\n",
    "    #the index of the sample is the same as the index of the labeel. \n",
    "    sample = x[index]\n",
    "    label = t[index]\n",
    "    # 2. Perform a training step.\n",
    "    perceptron.training_step(sample, label)\n",
    "    \n",
    "    # Calculate the performance over all four possible inputs.\n",
    "    accuracy_sum = 0\n",
    "    for k in range(len(x)):\n",
    "        #bear in mind that the forward_step function runs with the newly updated weigths\n",
    "        #that's why it makes to calculate the accuracy. So we're taking all the \n",
    "        #possible inputs, and then we make predictions with these newly updated weights\n",
    "        output = perceptron.forward_step(x[k])   # feed each input to the perceptron (only foward step!)\n",
    "        accuracy_sum += int(output == t[k])  # this turns true if the perceptron gave the right output --> then adds 1 \n",
    "    accuracy = accuracy_sum / 4                  # we divide through all the training examples\n",
    "    accuracies.append(accuracy)"
   ]
  },
  {
   "cell_type": "markdown",
   "metadata": {
    "id": "88m7nylyqaly"
   },
   "source": [
    "#### Let's give it a try:\n"
   ]
  },
  {
   "cell_type": "code",
   "execution_count": 19,
   "metadata": {
    "colab": {
     "base_uri": "https://localhost:8080/"
    },
    "id": "q4bZnF_tchiQ",
    "outputId": "47e73964-b082-4ba8-f06f-6f9b25a106cd"
   },
   "outputs": [
    {
     "name": "stdout",
     "output_type": "stream",
     "text": [
      "Input: [0 0] \t True Label: 0 \t Perceptron's Prediction: 0\n",
      "Input: [0 1] \t True Label: 0 \t Perceptron's Prediction: 0\n",
      "Input: [1 0] \t True Label: 0 \t Perceptron's Prediction: 0\n",
      "Input: [1 1] \t True Label: 1 \t Perceptron's Prediction: 1\n"
     ]
    }
   ],
   "source": [
    "for n in range(len(x)):\n",
    "  output = perceptron.forward_step(x[n])\n",
    "  print(\"Input: %s \\t True Label: %d \\t Perceptron's Prediction: %d\" % (np.array2string(x[n]), t[n], output))\n"
   ]
  },
  {
   "cell_type": "markdown",
   "metadata": {
    "id": "O8vk4Qe2EKe9"
   },
   "source": [
    "#### Visualize training progress."
   ]
  },
  {
   "cell_type": "code",
   "execution_count": 20,
   "metadata": {
    "colab": {
     "base_uri": "https://localhost:8080/",
     "height": 283
    },
    "id": "QmodvcrUEKfA",
    "outputId": "8f1c00b4-f706-4fdc-8fdf-1967dab1d114"
   },
   "outputs": [
    {
     "data": {
      "image/png": "[encoded data removed]",
      "text/plain": [
       "<Figure size 432x288 with 1 Axes>"
      ]
     },
     "metadata": {
      "needs_background": "light"
     },
     "output_type": "display_data"
    }
   ],
   "source": [
    "# Lastly let's plot the training progress.\n",
    "import matplotlib.pyplot as plt\n",
    "plt.figure()\n",
    "plt.plot(steps, accuracies)\n",
    "plt.xlabel(\"Training Steps\")\n",
    "plt.ylabel(\"Accuracy\")\n",
    "plt.ylim([-0.1, 1.2])\n",
    "plt.show()\n",
    "# this graphs show how the accuracy improves as the interations increase. "
   ]
  },
  {
   "cell_type": "markdown",
   "metadata": {
    "id": "oU3aBtCpEKfF"
   },
   "source": [
    "#### Train on XOR gate."
   ]
  },
  {
   "cell_type": "code",
   "execution_count": 21,
   "metadata": {
    "id": "FPgctnhDEKfH"
   },
   "outputs": [],
   "source": [
    "# Initialize a perceptron.\n",
    "perceptron = Perceptron(2)\n",
    "# Initialize list to store performance.\n",
    "accuracies = []\n",
    "steps =[]\n",
    "\n",
    "# We train for 500 steps.\n",
    "for i in range(500):\n",
    "    steps.append(i)\n",
    "    \n",
    "    # 1. Draw a random sample from x and the corresponding t. Check 'np.random.randint'.\n",
    "    index = np.random.randint(len(x))\n",
    "    sample = x[index]\n",
    "    label = t_xor[index]\n",
    "    # 2. Perform a training step.\n",
    "    perceptron.training_step(sample, label)\n",
    "    \n",
    "    # Calculate the performance over all four possible inputs.\n",
    "    accuracy_sum = 0\n",
    "    for k in range(4):\n",
    "        output = perceptron.forward_step(x[k])   # feed each input to the perceptron (only foward step!)\n",
    "        accuracy_sum += int(output == t_xor[k])  # this turns true if the perceptron gave the right output --> then adds 1 \n",
    "    accuracy = accuracy_sum / 4                  # we divide through all the training examples\n",
    "    accuracies.append(accuracy)"
   ]
  },
  {
   "cell_type": "markdown",
   "metadata": {
    "id": "LRpkOcWoEKfP"
   },
   "source": [
    "#### Visualize training progress."
   ]
  },
  {
   "cell_type": "code",
   "execution_count": 22,
   "metadata": {
    "colab": {
     "base_uri": "https://localhost:8080/",
     "height": 283
    },
    "id": "ttCxt0aGEKfS",
    "outputId": "f764834a-2298-4baa-8134-dcd92da2bbc2"
   },
   "outputs": [
    {
     "data": {
      "image/png": "[encoded data removed]",
      "text/plain": [
       "<Figure size 432x288 with 1 Axes>"
      ]
     },
     "metadata": {
      "needs_background": "light"
     },
     "output_type": "display_data"
    }
   ],
   "source": [
    "plt.figure()\n",
    "plt.plot(steps, accuracies)\n",
    "plt.xlabel(\"Training Steps\")\n",
    "plt.ylabel(\"Accuracy\")\n",
    "plt.ylim([-0.1, 1.2])\n",
    "plt.show()"
   ]
  },
  {
   "cell_type": "code",
   "execution_count": null,
   "metadata": {},
   "outputs": [],
   "source": []
  }
 ],
 "metadata": {
  "colab": {
   "collapsed_sections": [],
   "name": "Flipped_classroom02.ipynb",
   "provenance": []
  },
  "kernelspec": {
   "display_name": "Python 3",
   "language": "python",
   "name": "python3"
  },
  "language_info": {
   "codemirror_mode": {
    "name": "ipython",
    "version": 3
   },
   "file_extension": ".py",
   "mimetype": "text/x-python",
   "name": "python",
   "nbconvert_exporter": "python",
   "pygments_lexer": "ipython3",
   "version": "3.7.6"
  }
 },
 "nbformat": 4,
 "nbformat_minor": 1
}
