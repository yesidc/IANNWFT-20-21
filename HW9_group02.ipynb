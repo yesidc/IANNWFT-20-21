{
  "nbformat": 4,
  "nbformat_minor": 0,
  "metadata": {
    "colab": {
      "name": "HW09_group02.ipynb",
      "provenance": [],
      "collapsed_sections": []
    },
    "kernelspec": {
      "name": "python3",
      "display_name": "Python 3"
    }
  },
  "cells": [
    {
      "cell_type": "markdown",
      "metadata": {
        "id": "j86o5_U5CKz2"
      },
      "source": [
        "##**HOMEWORK 09**\n",
        "###**RNNs**\n",
        "### IANNWTF\n",
        "###Group 02"
      ]
    },
    {
      "cell_type": "code",
      "metadata": {
        "id": "q7VOZrQ3cNJi"
      },
      "source": [
        "import numpy as np\n",
        "%tensorflow_version 2.x\n",
        "import tensorflow as tf\n",
        "import matplotlib.pyplot as plt\n",
        "import tensorflow_datasets as tfds\n",
        "import tensorflow_probability as tfp\n",
        "from IPython import display\n",
        "import time \n",
        "import random\n",
        "# print(tf.__version__)"
      ],
      "execution_count": 74,
      "outputs": []
    },
    {
      "cell_type": "markdown",
      "metadata": {
        "id": "zHk0Y2eVTo24"
      },
      "source": [
        "### **Generating the Data**"
      ]
    },
    {
      "cell_type": "code",
      "metadata": {
        "id": "tZWBAXNJaP7U",
        "colab": {
          "base_uri": "https://localhost:8080/"
        },
        "outputId": "16324b49-fd6e-449f-cfad-a3a31985867f"
      },
      "source": [
        "import random\n",
        "\n",
        "# Batching only works if the inputs have the same size, so we can't really use it\n",
        "BATCH=1 \n",
        "\n",
        "def sequence(number,seed=1):\n",
        "  ''' This function creates both a sequence of random digits and the two random quired digits. \n",
        "  '''\n",
        "  i=0\n",
        "  random.seed(seed)\n",
        "  while i<number:\n",
        "    # 1. Create a random sequence of random length. At least half of them should be small, so that the LSTM has a starting stone \n",
        "    seqLen=random.randint(1,5) if random.randint(1,2)==1 else random.randint(1,20) \n",
        "    seq=[]\n",
        "    for j in range(seqLen):\n",
        "      seq.append(random.randint(0,9))\n",
        "\n",
        "    # 2. Count the occurrences of two random digits. If both digits have the same frecuency (or are not in the sequence) repeat with new digits\n",
        "    # Generate the two queried digits (context)\n",
        "    n1=0\n",
        "    n2=0\n",
        "    while n1+n2 == 0:\n",
        "      # Context digit 1\n",
        "      c1=random.randint(0,9)\n",
        "      # Context digit 2\n",
        "      c2=random.randint(0,9)\n",
        "\n",
        "      # Count number of times context digits occur in the sequence\n",
        "      n1=seq.count(c1)\n",
        "      n2=seq.count(c2)\n",
        "    # So far of the form (now summarize with a list of the form [(digit1,digit2,sequenceDigit_j)]\n",
        "    final=[]\n",
        "    for j in range(seqLen):\n",
        "      final.append((c1,c2,seq[j]))\n",
        "    # return the sequence-list and 1 if the first digit is more frecuent else 0\n",
        "    yield (final,(1. if n1>n2 else 0.)) #(1. if n1>n2 else 0.)) \n",
        "    i+=1\n",
        "\n",
        "def getDataset(size,seed):\n",
        "  ''' This function generates the dataset our model is going to work with\n",
        "  '''\n",
        "  data_set = tf.data.Dataset.from_generator(sequence,args= [size,seed],output_types = (tf.int32,tf.float32))\n",
        "\n",
        "  # Perform one_hot encoding \n",
        "  final_set=data_set.map(lambda x,y:(tf.one_hot(x,10),y))\n",
        "  final_set = final_set.shuffle(buffer_size=128)\n",
        "  final_set = final_set.batch(BATCH)\n",
        "  final_set = final_set.prefetch(tf.data.experimental.AUTOTUNE)\n",
        "  return final_set\n",
        "\n",
        "\n",
        "# Generate the traning dataset\n",
        "train_dataset = getDataset(10000,1)\n",
        "# Let's look at one of the training sets\n",
        "for i in train_dataset:\n",
        "  print(i)\n",
        "  break\n",
        "# generate the testing dataset\n",
        "test_dataset = getDataset(1000,2)"
      ],
      "execution_count": 81,
      "outputs": [
        {
          "output_type": "stream",
          "text": [
            "(<tf.Tensor: shape=(1, 3, 3, 10), dtype=float32, numpy=\n",
            "array([[[[0., 0., 0., 0., 0., 1., 0., 0., 0., 0.],\n",
            "         [0., 1., 0., 0., 0., 0., 0., 0., 0., 0.],\n",
            "         [0., 0., 1., 0., 0., 0., 0., 0., 0., 0.]],\n",
            "\n",
            "        [[0., 0., 0., 0., 0., 1., 0., 0., 0., 0.],\n",
            "         [0., 1., 0., 0., 0., 0., 0., 0., 0., 0.],\n",
            "         [0., 0., 0., 1., 0., 0., 0., 0., 0., 0.]],\n",
            "\n",
            "        [[0., 0., 0., 0., 0., 1., 0., 0., 0., 0.],\n",
            "         [0., 1., 0., 0., 0., 0., 0., 0., 0., 0.],\n",
            "         [0., 0., 0., 0., 0., 1., 0., 0., 0., 0.]]]], dtype=float32)>, <tf.Tensor: shape=(1,), dtype=float32, numpy=array([1.], dtype=float32)>)\n"
          ],
          "name": "stdout"
        }
      ]
    },
    {
      "cell_type": "markdown",
      "metadata": {
        "id": "wvdEyU79T2WS"
      },
      "source": [
        "##**The RNNs Network**\n",
        "Our LSTM-cell consists basically of four Dense Layers with 30 units each and an input of size 60 (30 for the real input and 30 for the hidden states)."
      ]
    },
    {
      "cell_type": "code",
      "metadata": {
        "id": "gLvQnLzxkIol"
      },
      "source": [
        "from tensorflow.keras import Model\n",
        "from tensorflow.keras.layers import Layer\n",
        "\n",
        "# The long short term memory Cell\n",
        "class LSTM_Cell(Layer):\n",
        "  def __init__(self):\n",
        "    super(LSTM_Cell, self).__init__()\n",
        "    self.forgetg=tf.keras.layers.Dense(units=30,activation=tf.keras.activations.sigmoid,bias_initializer='ones',input_shape=(1,60)) #note the different bias_initializer\n",
        "    self.inputg=tf.keras.layers.Dense(units=30,activation=tf.keras.activations.sigmoid,input_shape=(1,60))\n",
        "    self.outputg=tf.keras.layers.Dense(units=30,activation=tf.keras.activations.sigmoid,input_shape=(1,60))\n",
        "    self.cell=tf.keras.layers.Dense(units=30,activation=tf.keras.activations.tanh,input_shape=(1,60))\n",
        "\n",
        "  #implement the math as in the courseware\n",
        "  def call(self,input,states):\n",
        "    (hidden_state,cell_state)=states\n",
        "    input_concat=tf.concat([hidden_state,input],axis=1)\n",
        "    forget_gate=self.forgetg(input_concat)\n",
        "    input_gate=self.inputg(input_concat)\n",
        "    output_gate=self.outputg(input_concat)\n",
        "    cell_state_candidates=self.cell(input_concat)\n",
        "    new_cell_state=tf.keras.layers.Add()([tf.keras.layers.multiply([forget_gate,cell_state]),tf.keras.layers.multiply([input_gate,cell_state_candidates])])\n",
        "    new_hidden_state=tf.keras.layers.multiply([output_gate,tf.keras.activations.tanh(new_cell_state)])\n",
        "    output=new_hidden_state\n",
        "    return (output,new_hidden_state,new_cell_state)\n"
      ],
      "execution_count": 82,
      "outputs": []
    },
    {
      "cell_type": "markdown",
      "metadata": {
        "id": "6ELlqRdkVOEv"
      },
      "source": [
        "Next, now that we have the lstm_cell, we construct the normal LSTM which is a small read-in and read-out layers, an output of 1 (binary classification)."
      ]
    },
    {
      "cell_type": "code",
      "metadata": {
        "id": "DWjOxm4engqD"
      },
      "source": [
        "# The long short term memory Model\n",
        "class LSTM(Model):\n",
        "\n",
        "  def __init__(self):\n",
        "    super(LSTM, self).__init__()\n",
        "    self.reshape=tf.keras.layers.Reshape((30,))\n",
        "    self.readin=tf.keras.layers.Dense(units=30,activation=tf.keras.activations.relu,input_shape=(30,))\n",
        "    self.lstm=LSTM_Cell()\n",
        "    self.readout=tf.keras.layers.Dense(units=1,activation=tf.keras.activations.sigmoid)\n",
        "\n",
        "\n",
        "  @tf.function\n",
        "  def call(self,input):\n",
        "    # Define our starting hidden/cell states\n",
        "    h=tf.zeros((len(input),30))\n",
        "    c=tf.zeros((len(input),30))\n",
        "    outputs=[]\n",
        "    for i in range(len(input[0])):\n",
        "      # Takes the input for this timestep for all the different batches\n",
        "      timed_input=input[:,i] \n",
        "      timed_input=self.reshape(timed_input)\n",
        "      timed_input=self.readin(timed_input)\n",
        "      (x,h,c)=self.lstm.call(timed_input,(h,c))\n",
        "      # what was the output for this time step\n",
        "      outputs.append(self.readout(x)) \n",
        "\n",
        "    # But in reality we only care for the last one\n",
        "    return outputs[-1] \n",
        "    \n",
        "      "
      ],
      "execution_count": 83,
      "outputs": []
    },
    {
      "cell_type": "markdown",
      "metadata": {
        "id": "lU8kP_gxWbDq"
      },
      "source": [
        "Below, we define the training and testing step as it was specified in the course material and documentation"
      ]
    },
    {
      "cell_type": "code",
      "metadata": {
        "id": "HPEzxpnRPT4e"
      },
      "source": [
        "# Define the training step\n",
        "def train_step(model, input, target, loss_function, optimizer):\n",
        "\n",
        "  with tf.GradientTape() as tape:\n",
        "    prediction = model(input)\n",
        "    loss = loss_function(target, prediction)\n",
        "    gradients = tape.gradient(loss, model.trainable_variables)\n",
        "  optimizer.apply_gradients(zip(gradients, model.trainable_variables))\n",
        "  return loss \n",
        "\n",
        "# Define the testing step\n",
        "def test(model, test_data, loss_function):\n",
        "  \n",
        "  test_accuracy_aggregator = []\n",
        "  test_loss_aggregator = []\n",
        "\n",
        "  for (input, target) in test_data:\n",
        "    prediction = model(input)\n",
        "\n",
        "    sample_test_loss = loss_function(target, prediction)\n",
        "    prediction=tf.math.round(prediction)\n",
        "    target=tf.math.round(target)\n",
        "    sample_test_accuracy =  tf.math.equal(target,prediction)\n",
        "    sample_test_accuracy = np.mean(sample_test_accuracy)\n",
        "    test_loss_aggregator.append(sample_test_loss.numpy())\n",
        "    test_accuracy_aggregator.append(np.mean(sample_test_accuracy))\n",
        "\n",
        "  test_loss = np.mean(test_loss_aggregator)\n",
        "  test_accuracy = np.mean(test_accuracy_aggregator)\n",
        "\n",
        "  return test_loss, test_accuracy"
      ],
      "execution_count": 84,
      "outputs": []
    },
    {
      "cell_type": "code",
      "metadata": {
        "id": "IYgwmK6pPlk3"
      },
      "source": [
        "# Funtcion to plot losses and accuracies\n",
        "def plot_accuracy(train_losses,test_losses,test_accuracies):\n",
        "  # Plot training and test loss.\n",
        "  plt.figure()\n",
        "  line1, = plt.plot(train_losses)\n",
        "  line2, = plt.plot(test_losses)\n",
        "  plt.xlabel(\"Training steps\")\n",
        "  plt.ylabel(\"Loss\")\n",
        "  plt.legend((line1,line2),(\"training\",\"test\"))\n",
        "  plt.show()\n",
        "\n",
        "  # Plot test accuracy.\n",
        "  plt.figure()\n",
        "  line1, = plt.plot(test_accuracies)\n",
        "  plt.title(f'Total Acuraccy: {np.max(test_accuracies)}')\n",
        "  plt.xlabel(\"Training steps\")\n",
        "  plt.ylabel(\"Accuracy\")\n",
        "  plt.show()"
      ],
      "execution_count": 85,
      "outputs": []
    },
    {
      "cell_type": "markdown",
      "metadata": {
        "id": "TrnoK4B4X2eF"
      },
      "source": [
        "Finally, we get to run the model and visualize the losses and accuracies. "
      ]
    },
    {
      "cell_type": "code",
      "metadata": {
        "colab": {
          "base_uri": "https://localhost:8080/",
          "height": 608
        },
        "id": "wMTSVDu0PnkZ",
        "outputId": "f1a2cc60-c886-4a66-c3c1-df5d5750cfa5"
      },
      "source": [
        "# As specified in the course material and documentation\n",
        "tf.keras.backend.clear_session()\n",
        "\n",
        "# Hyperparameters\n",
        "num_epochs = 30\n",
        "learning_rate = 0.0001\n",
        "running_average_factor = 0.95\n",
        "\n",
        "# Set the time\n",
        "start = time.time()\n",
        "\n",
        "# Initialize the model.\n",
        "model = LSTM()\n",
        "# Initialize the loss: mean squared error Check out 'tf.keras.losses'.\n",
        "cross_entropy_loss = tf.keras.losses.MSE\n",
        "# Initialize the optimizer: Adam with default parameters. Check out 'tf.keras.optimizers'\n",
        "optimizer = tf.keras.optimizers.Adam(learning_rate)\n",
        "\n",
        "# Initialize lists for later visualization.\n",
        "train_losses = []\n",
        "\n",
        "test_losses = []\n",
        "test_accuracies = []\n",
        "\n",
        "#testing once before we begin\n",
        "test_loss, test_accuracy = test(model, test_dataset, cross_entropy_loss)\n",
        "test_losses.append(test_loss)\n",
        "test_accuracies.append(test_accuracy)\n",
        "\n",
        "#check how model performs on train data once before we begin\n",
        "train_loss, _ = test(model, train_dataset, cross_entropy_loss)\n",
        "train_losses.append(train_loss)\n",
        "\n",
        "# We train for num_epochs epochs.\n",
        "for epoch in range(0, num_epochs + 1):\n",
        "\n",
        "    train_dataset = train_dataset.shuffle(buffer_size=128)\n",
        "    test_dataset = test_dataset.shuffle(buffer_size=128)\n",
        "\n",
        "    # Training\n",
        "    running_average = 0\n",
        "    for (input,target) in train_dataset:\n",
        "        train_loss = train_step(model, input, target, cross_entropy_loss, optimizer)\n",
        "        running_average = running_average_factor * running_average  + (1 - running_average_factor) * train_loss\n",
        "    train_losses.append(running_average)\n",
        "\n",
        "    # Testing\n",
        "    test_loss, test_accuracy = test(model, test_dataset, cross_entropy_loss)\n",
        "    test_losses.append(test_loss)\n",
        "    test_accuracies.append(test_accuracy)\n",
        "    \n",
        "    # Clear after new epoch\n",
        "    display.clear_output(wait=True)\n",
        "    print(f'Epoch: _{epoch}')\n",
        "    plot_accuracy(train_losses, test_losses, test_accuracies)\n",
        "\n",
        "# Keep track of the time \n",
        "end = time.time()\n",
        "duration = end - start\n",
        "\n",
        "print(f'\\nThis training took: {int (duration / 60)} minutes and {(duration % 60)} seconds.')"
      ],
      "execution_count": 86,
      "outputs": [
        {
          "output_type": "stream",
          "text": [
            "Epoch: _30\n"
          ],
          "name": "stdout"
        },
        {
          "output_type": "display_data",
          "data": {
            "image/png": "[encoded data removed]",
            "text/plain": [
              "<Figure size 432x288 with 1 Axes>"
            ]
          },
          "metadata": {
            "tags": [],
            "needs_background": "light"
          }
        },
        {
          "output_type": "display_data",
          "data": {
            "image/png": "[encoded data removed]",
            "text/plain": [
              "<Figure size 432x288 with 1 Axes>"
            ]
          },
          "metadata": {
            "tags": [],
            "needs_background": "light"
          }
        },
        {
          "output_type": "stream",
          "text": [
            "\n",
            "This training took: 50 minutes and 9.93923544883728 seconds.\n"
          ],
          "name": "stdout"
        }
      ]
    },
    {
      "cell_type": "code",
      "metadata": {
        "id": "pWFUKcJ1BWKL"
      },
      "source": [
        ""
      ],
      "execution_count": null,
      "outputs": []
    }
  ]
}