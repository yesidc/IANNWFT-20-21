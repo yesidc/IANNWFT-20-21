{
 "cells": [
  {
   "cell_type": "markdown",
   "metadata": {
    "id": "8D0HUwWAEKeM"
   },
   "source": [
    "## Perceptron Logical Gates\n",
    "\n",
    "In this notebook we train a perceptron (just a single neuron) to solve logical gates. \n",
    "\n",
    "That means, e.g. for the AND gate, if we put in a 0 and a 1, the perceptron should output 0. It should only output 1 if the input was (1,1).\n",
    "\n",
    "For the XOR gate, the Perceptron should return 1 if only one of the inputs was 1 and the other one 0 -->  (0,1) or (1,0). For (0,0) and (1,1) it should return 0.\n",
    "\n",
    "And so on..."
   ]
  },
  {
   "cell_type": "code",
   "execution_count": 16,
   "metadata": {
    "id": "7euT0HdQEKeR"
   },
   "outputs": [],
   "source": [
    "# Not using any tf libraries so far...\n",
    "import numpy as np \n",
    "import matplotlib.pyplot as plt"
   ]
  },
  {
   "cell_type": "code",
   "execution_count": 10,
   "metadata": {
    "id": "8bO7NpCDEKej"
   },
   "outputs": [],
   "source": [
    "# To make sure that you get the implementation right let us first have a look at the data structure.\n",
    "# These are the four possible input pairs of (x1,x2).\n",
    "x = np.array([[0,0],[0,1],[1,0],[1,1]])\n",
    "# These are possible labels form some logical gates.\n",
    "t_and = np.array([0,0,0,1])\n",
    "t_or = np.array([0,1,1,1])\n",
    "t_nand = np.array([1,1,1,0])\n",
    "t_nor = np.array([1,0,0,0])\n",
    "t_xor = np.array([0,1,1,0])"
   ]
  },
  {
   "cell_type": "markdown",
   "metadata": {
    "id": "0_PT3Q_gEKer"
   },
   "source": [
    "#### Implement Perceptron."
   ]
  },
  {
   "cell_type": "code",
   "execution_count": 3,
   "metadata": {
    "id": "pDWFmomzEKet"
   },
   "outputs": [],
   "source": [
    "# To make you familiar with classes we will implement the perceptron as a class.\n",
    "# Check https://docs.python.org/3/tutorial/classes.html if you need basic help with python classes.\n",
    "\n",
    "class Perceptron:\n",
    "\n",
    "    def __init__(self, input_units):\n",
    "        self.input_units = input_units\n",
    "\n",
    "        # 1. Initialize random weights and a random bias term. Check 'np.random.randn()'.\n",
    "        self.weights = np.random.randn(input_units)\n",
    "        self.bias = np.random.randn()\n",
    "\n",
    "        # 2. Define the learning rate as 1.\n",
    "        self.alpha = 1\n",
    "\n",
    "    def sigmoid(self, activations):\n",
    "        # Implemented Sigmoid activation function\n",
    "        return 1 / (1 + np.exp(-activations))\n",
    "\n",
    "    def sigmoid_prime(self, activations):\n",
    "        \"\"\"This function takes the derivative of the sigmoid function taking as its \n",
    "        argument the activation.\n",
    "        \n",
    "        Argument:\n",
    "        --------\n",
    "        activations:\n",
    "            Float, weighted sum\n",
    "        \"\"\"\n",
    "        return self.sigmoid(activations) * (1 - self.sigmoid(activations))\n",
    "\n",
    "    def forward_step(self, input):\n",
    "        self.last_input = input\n",
    "\n",
    "        # Perform a perceptron forward step.\n",
    "        weighted_sum = self.weights @ input + self.bias\n",
    "        self.last_weighted_sum = weighted_sum\n",
    "\n",
    "        # 2. Return a 1 or a 0, depending on whether the perceptron\n",
    "        # surpassed the threshold as defined by the activation function\n",
    "        self.last_activation = self.sigmoid(weighted_sum)\n",
    "        return self.last_activation\n",
    "\n",
    "    def update(self, delta):\n",
    "        \"\"\" This function updates both the bias and the weights\n",
    "        Argument:\n",
    "        -------------\n",
    "        delta: Float, the error needed to compute the derivatives with respect to any weight\n",
    "        \"\"\"\n",
    "        self.last_delta = delta\n",
    "        self.weights -= self.alpha * delta * self.last_input\n",
    "        self.bias -= self.alpha * delta * 1\n"
   ]
  },
  {
   "cell_type": "code",
   "execution_count": 4,
   "metadata": {},
   "outputs": [],
   "source": [
    "class MLP():\n",
    "    def __init__(self, input_units, num_layers=1, num_perceptrons=4):\n",
    "        # We assume 1 or many layers of perceptrons, all layers have the same number of perceptrons for simplicity\n",
    "        \"\"\"\n",
    "        self.layers\n",
    "        self.output\n",
    "        \"\"\"\n",
    "        self.layers = []\n",
    "\n",
    "        # We initialize each layer of perceptrons\n",
    "        #num_layers + 1 to account for the output layer\n",
    "        for layer in range(num_layers + 1):\n",
    "            p = []\n",
    "            #this loop creates the perceptron of a single layer\n",
    "            for n in range(num_perceptrons):\n",
    "                # In the first layer each perceptron has 'input_units' number of weights, and inputs.\n",
    "                if layer == 0:\n",
    "                    p.append(Perceptron(input_units))\n",
    "                # In the latter layers each perceptron has 'num_perceptrons' number of inputs\n",
    "                elif layer < num_layers:\n",
    "                    #since each layer has the same number of 'num_perceptrons', the weights each perceptron in the \n",
    "                    #next layer will have is equal to the number of perceptrons in the previous layer, that is, num_perceptrons\n",
    "                    p.append(Perceptron(num_perceptrons))\n",
    "                # We also initialize a single final output perceptron with 'num_perceptrons' number of inputs\n",
    "                else:\n",
    "                    p.append(Perceptron(num_perceptrons))\n",
    "                    break\n",
    "            self.layers.append(p)\n",
    "\n",
    "        # Create a quick reference to the output perceptron as we need it quite often\n",
    "        self.output = self.layers[num_layers][0]\n",
    "\n",
    "    def forward_step(self, input):\n",
    "        # We propagate forward through the layers\n",
    "        for i, layer in enumerate(self.layers):\n",
    "            # In the first layer, we simply run the forward step with the input\n",
    "            if i == 0:\n",
    "                activations = input\n",
    "            # In the latter layers, we get the input from the previous layers output\n",
    "            else:\n",
    "                activations = []\n",
    "                #the activations needed are in the l-1 layer: self.layers[i-1]\n",
    "                for m in self.layers[i-1]:\n",
    "                    activations.append(m.last_activation)\n",
    "\n",
    "            # Now propagate the forward step to the current layer's perceptrons\n",
    "            for n in layer:\n",
    "                n.forward_step(np.reshape(activations, newshape=(-1)))\n",
    "\n",
    "        # Store the output value\n",
    "        return self.output.last_activation\n",
    "\n",
    "    def backprop_step(self, label):\n",
    "        # We propagate backward through the layers\n",
    "        for l in reversed(range(len(self.layers))):\n",
    "            # For the output layer we run a special delta kind of error\n",
    "            if l == len(self.layers) - 1:\n",
    "                delta = -(label - self.output.last_activation) * self.output.sigmoid_prime(self.output.last_weighted_sum)\n",
    "                self.output.update(delta)\n",
    "            # For the hidden layers we run an alternate delta kind of error\n",
    "            else:\n",
    "                for i, n in enumerate(self.layers[l]):\n",
    "                    delta = 0\n",
    "                    for j in self.layers[l+1]:\n",
    "                        delta += j.last_delta * j.weights[i]\n",
    "                    delta *= n.sigmoid_prime(n.last_weighted_sum)\n",
    "                    n.update(delta)\n"
   ]
  },
  {
   "cell_type": "markdown",
   "metadata": {
    "id": "Q7cSOPUIfjzD"
   },
   "source": [
    "Note that we are **adding** the weights/biases, because we are using the Perceptron Learning rule and **not Gradient Descent**!\n",
    "\n",
    "#### Perceptron Learning Rule Recap:\n",
    "$$w_i^{new} = w_i^{old} + \\Delta w_i  $$\n",
    "$$\\Delta w_i = \\alpha*  (t-y) *x_i $$"
   ]
  },
  {
   "cell_type": "markdown",
   "metadata": {
    "id": "DrnCRFB0EKe1"
   },
   "source": [
    "#### Train on AND gate."
   ]
  },
  {
   "cell_type": "code",
   "execution_count": 34,
   "metadata": {
    "id": "rZ0Bll4-EKe2"
   },
   "outputs": [
    {
     "name": "stdout",
     "output_type": "stream",
     "text": [
      "\n",
      "Input: [0 0] \t True Label: 0 \t Perceptron's Prediction: 0.002383\n",
      "Input: [0 1] \t True Label: 0 \t Perceptron's Prediction: 0.076994\n",
      "Input: [1 0] \t True Label: 0 \t Perceptron's Prediction: 0.067336\n",
      "Input: [1 1] \t True Label: 1 \t Perceptron's Prediction: 0.915214\n"
     ]
    },
    {
     "data": {
      "image/png": "[encoded data removed]",
      "text/plain": [
       "<Figure size 432x288 with 1 Axes>"
      ]
     },
     "metadata": {
      "needs_background": "light"
     },
     "output_type": "display_data"
    },
    {
     "name": "stdout",
     "output_type": "stream",
     "text": [
      "\n",
      "Input: [0 0] \t True Label: 0 \t Perceptron's Prediction: 0.094823\n",
      "Input: [0 1] \t True Label: 1 \t Perceptron's Prediction: 0.942042\n",
      "Input: [1 0] \t True Label: 1 \t Perceptron's Prediction: 0.950793\n",
      "Input: [1 1] \t True Label: 1 \t Perceptron's Prediction: 0.994279\n"
     ]
    },
    {
     "data": {
      "image/png": "[encoded data removed]",
      "text/plain": [
       "<Figure size 432x288 with 1 Axes>"
      ]
     },
     "metadata": {
      "needs_background": "light"
     },
     "output_type": "display_data"
    },
    {
     "name": "stdout",
     "output_type": "stream",
     "text": [
      "\n",
      "Input: [0 0] \t True Label: 0 \t Perceptron's Prediction: 0.006130\n",
      "Input: [0 1] \t True Label: 0 \t Perceptron's Prediction: 0.101672\n",
      "Input: [1 0] \t True Label: 0 \t Perceptron's Prediction: 0.089574\n",
      "Input: [1 1] \t True Label: 1 \t Perceptron's Prediction: 0.882972\n"
     ]
    },
    {
     "data": {
      "image/png": "[encoded data removed]",
      "text/plain": [
       "<Figure size 432x288 with 1 Axes>"
      ]
     },
     "metadata": {
      "needs_background": "light"
     },
     "output_type": "display_data"
    },
    {
     "name": "stdout",
     "output_type": "stream",
     "text": [
      "\n",
      "Input: [0 0] \t True Label: 1 \t Perceptron's Prediction: 0.926837\n",
      "Input: [0 1] \t True Label: 0 \t Perceptron's Prediction: 0.050996\n",
      "Input: [1 0] \t True Label: 0 \t Perceptron's Prediction: 0.048093\n",
      "Input: [1 1] \t True Label: 0 \t Perceptron's Prediction: 0.008442\n"
     ]
    },
    {
     "data": {
      "image/png": "[encoded data removed]",
      "text/plain": [
       "<Figure size 432x288 with 1 Axes>"
      ]
     },
     "metadata": {
      "needs_background": "light"
     },
     "output_type": "display_data"
    },
    {
     "name": "stdout",
     "output_type": "stream",
     "text": [
      "\n",
      "Input: [0 0] \t True Label: 0 \t Perceptron's Prediction: 0.121605\n",
      "Input: [0 1] \t True Label: 1 \t Perceptron's Prediction: 0.809491\n",
      "Input: [1 0] \t True Label: 1 \t Perceptron's Prediction: 0.868079\n",
      "Input: [1 1] \t True Label: 0 \t Perceptron's Prediction: 0.173679\n"
     ]
    },
    {
     "data": {
      "image/png": "[encoded data removed]",
      "text/plain": [
       "<Figure size 432x288 with 1 Axes>"
      ]
     },
     "metadata": {
      "needs_background": "light"
     },
     "output_type": "display_data"
    }
   ],
   "source": [
    "# Now let's train the network.\n",
    "names_graphs=['Graph AND', 'Graph OR', 'Graph NAND','Graph NOR', 'Graph XOR']\n",
    "# Choose which target you want to train on.\n",
    "ts = [t_and, t_or, t_and, t_nor, t_xor]\n",
    "for counter,t in enumerate (ts):\n",
    "    # Initialize a MLP.\n",
    "    mlp = MLP(2, num_layers=1, num_perceptrons=4)\n",
    "    # Initialize lists to store steps and performance.\n",
    "    steps = []\n",
    "    accuracies = []\n",
    "\n",
    "    # We train for 1000 steps.\n",
    "    for i in range(1000):\n",
    "        steps.append(i)\n",
    "\n",
    "        # 1. Draw a random sample from x and the corresponding t. Check 'np.random.randint'.\n",
    "        index = np.random.randint(len(x))\n",
    "        sample = x[index]\n",
    "        label = t[index]\n",
    "        # 2. Perform a training step.\n",
    "        mlp.forward_step(sample)\n",
    "        mlp.backprop_step(label)\n",
    "        # Calculate the performance over all four possible inputs.\n",
    "        accuracy_sum = 0\n",
    "        #error_sum=0\n",
    "        for k in range(len(x)):\n",
    "            output = mlp.forward_step(x[k])      # feed each input to the perceptron (only foward step!)\n",
    "            if t[k]==1 and output >=0.5:\n",
    "                accuracy_sum+=1\n",
    "            if t[k]==0 and output <0.5:\n",
    "                accuracy_sum+=1\n",
    "            \n",
    "        #accuracy_sum += int(output == t[k])  # this turns true if the perceptron gave the right output --> then adds 1\n",
    "        accuracy = accuracy_sum / 4              # we divide through all the training examples\n",
    "        accuracies.append(accuracy)\n",
    "\n",
    "    print(\"\")\n",
    "\n",
    "    for n in range(len(x)):\n",
    "        output = mlp.forward_step(x[n])\n",
    "        print(\"Input: %s \\t True Label: %d \\t Perceptron's Prediction: %f\" % (np.array2string(x[n]), t[n], output))\n",
    "        \n",
    "    plt.figure()\n",
    "    plt.plot(steps, accuracies)\n",
    "    plt.xlabel(\"Training Steps\")\n",
    "    plt.ylabel(\"Accuracy\")\n",
    "    plt.title(names_graphs[counter])\n",
    "    plt.ylim([-0.1, 1.2])\n",
    "    plt.show()\n",
    "    \n",
    "\n",
    "\n"
   ]
  }
 ],
 "metadata": {
  "colab": {
   "collapsed_sections": [],
   "name": "Flipped_classroom02.ipynb",
   "provenance": []
  },
  "kernelspec": {
   "display_name": "Python 3",
   "language": "python",
   "name": "python3"
  },
  "language_info": {
   "codemirror_mode": {
    "name": "ipython",
    "version": 3
   },
   "file_extension": ".py",
   "mimetype": "text/x-python",
   "name": "python",
   "nbconvert_exporter": "python",
   "pygments_lexer": "ipython3",
   "version": "3.7.6"
  }
 },
 "nbformat": 4,
 "nbformat_minor": 1
}
