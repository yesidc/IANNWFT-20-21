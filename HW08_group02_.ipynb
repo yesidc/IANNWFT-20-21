{
  "nbformat": 4,
  "nbformat_minor": 0,
  "metadata": {
    "colab": {
      "name": "HW08_group02_.ipynb",
      "provenance": [],
      "collapsed_sections": []
    },
    "kernelspec": {
      "name": "python3",
      "display_name": "Python 3"
    },
    "accelerator": "GPU"
  },
  "cells": [
    {
      "cell_type": "markdown",
      "metadata": {
        "id": "KbqviZGMZdOk"
      },
      "source": [
        "##**HOMEWORK 08**\n",
        "###**GANs**\n",
        "### IANNWTF\n",
        "###Group 02"
      ]
    },
    {
      "cell_type": "code",
      "metadata": {
        "id": "HyzY4KZEF6dv"
      },
      "source": [
        "import numpy as np\n",
        "%tensorflow_version 2.x\n",
        "import tensorflow as tf\n",
        "import matplotlib.pyplot as plt\n",
        "import tensorflow_datasets as tfds\n",
        "import tensorflow_probability as tfp\n",
        "from IPython import display\n",
        "import time \n",
        "# print(tf.__version__)\n"
      ],
      "execution_count": 4,
      "outputs": []
    },
    {
      "cell_type": "markdown",
      "metadata": {
        "id": "B-ZOGOewaMy4"
      },
      "source": [
        "#**Load data**"
      ]
    },
    {
      "cell_type": "code",
      "metadata": {
        "id": "VGH3vq_8F_fj"
      },
      "source": [
        "(train_images, _), (_, _) = tf.keras.datasets.fashion_mnist.load_data()"
      ],
      "execution_count": 5,
      "outputs": []
    },
    {
      "cell_type": "markdown",
      "metadata": {
        "id": "cIhVu8eCa1_e"
      },
      "source": [
        "Let's explore the data by doing some usefull prints."
      ]
    },
    {
      "cell_type": "markdown",
      "metadata": {
        "id": "6uCNLh4-qPNx"
      },
      "source": [
        "##**Normalization and Input pipeline**\n",
        "\n",
        "We will use the folowwing function to normalize, create our input pipeline and save some normalized images for later visualization."
      ]
    },
    {
      "cell_type": "code",
      "metadata": {
        "id": "FeIZF66NHz2d"
      },
      "source": [
        "def input_pipeline(images):\n",
        "  # 1. Normalize the images to be between 0 and 1\n",
        "  train_images = tf.image.convert_image_dtype(images, tf.float32)\n",
        "  # 2. Create a tf.dataset from a train tensor images\n",
        "  train_dataset = tf.data.Dataset.from_tensor_slices(train_images)\n",
        "  # expand the dimensions of the images.\n",
        "  train_dataset = train_dataset.map(lambda img : tf.cast(tf.expand_dims(img,-1), tf.float32))\n",
        "\n",
        " \n",
        "  \n",
        "  # futher preprocessing \n",
        "  train_dataset = train_dataset.shuffle(buffer_size=128)\n",
        "  train_dataset = train_dataset.batch(32)\n",
        "  train_dataset = train_dataset.prefetch(tf.data.experimental.AUTOTUNE)\n",
        "\n",
        "\n",
        "  return train_dataset"
      ],
      "execution_count": 12,
      "outputs": []
    },
    {
      "cell_type": "code",
      "metadata": {
        "id": "iGJnpYWgH3XN",
        "colab": {
          "base_uri": "https://localhost:8080/"
        },
        "outputId": "419593ff-098a-4f20-88dd-6f27b360834b"
      },
      "source": [
        "# Only images for training \n",
        "train_dataset= input_pipeline(train_images)\n",
        "\n",
        "\n",
        "# check the sizes and dimensions of the images\n",
        "for i in train_dataset:\n",
        "  print(f'min = {np.min(i)} \\nmax = {np.max(i)} \\nshape = {i.shape}, \\ntype = {i.dtype}')\n",
        "  break"
      ],
      "execution_count": 14,
      "outputs": [
        {
          "output_type": "stream",
          "text": [
            "min = 0.0 \n",
            "max = 1.0 \n",
            "shape = (32, 28, 28, 1), \n",
            "type = <dtype: 'float32'>\n"
          ],
          "name": "stdout"
        }
      ]
    },
    {
      "cell_type": "markdown",
      "metadata": {
        "id": "hHifCEzucmgD"
      },
      "source": [
        "#**1. Building the Generative Adversarial Network (GAN)**"
      ]
    },
    {
      "cell_type": "code",
      "metadata": {
        "id": "4vgPemf2akoK"
      },
      "source": [
        "from tensorflow.keras.models import Model\n",
        "from tensorflow.keras.layers import Layer\n",
        "\n",
        "# THE DISCRIMINATOR\n",
        "# Using two layers for reducing the size with a normal convolutional layer and dropout in between\n",
        "class Discriminator(Model):\n",
        "  def __init__(self):\n",
        "    super(Discriminator, self).__init__()\n",
        "    self.reduce1 = tf.keras.layers.Conv2D(filters=16, kernel_size=3,\n",
        "                                          strides=(2,2),\n",
        "                                          padding = 'same',\n",
        "                                          activation=None,\n",
        "                                          input_shape=(28,28,1)\n",
        "                                          )\n",
        "    self.dropout1 = tf.keras.layers.Dropout(rate=0.3)\n",
        "    self.conv = tf.keras.layers.Conv2D(filters=32, kernel_size=3,\n",
        "                                          strides=(1,1),\n",
        "                                          padding = 'same',\n",
        "                                          activation=None)\n",
        "    self.dropout2 = tf.keras.layers.Dropout(rate=0.3)\n",
        "    self.reduce2 = tf.keras.layers.Conv2D(filters=64, kernel_size=3,\n",
        "                                          strides=(2,2),\n",
        "                                          padding = 'same',\n",
        "                                          activation=None)\n",
        "    self.global_pool = tf.keras.layers.GlobalAveragePooling2D()\n",
        "    self.out = tf.keras.layers.Dense(1, activation='sigmoid')\n",
        "\n",
        "    self.relu = tf.nn.leaky_relu\n",
        "\n",
        "  @tf.function\n",
        "  def call(self, x):\n",
        "    x = self.reduce1(x)\n",
        "    x = self.relu(x)\n",
        "    x = self.dropout1(x)\n",
        "    x = self.conv(x)\n",
        "    x = self.relu(x)\n",
        "    x = self.dropout2(x)\n",
        "    x = self.reduce2(x)\n",
        "    x = self.relu(x)\n",
        "    x = self.global_pool(x)\n",
        "    x = self.out(x)\n",
        "    return x"
      ],
      "execution_count": 15,
      "outputs": []
    },
    {
      "cell_type": "code",
      "metadata": {
        "id": "hoAr7X-oE4-S"
      },
      "source": [
        "# THE GENERATOR\n",
        "# using two normal convolutional layers and a dropout layer with two upsamling layers in between.\n",
        "class Generator(Model):\n",
        "  def __init__(self, latent_dim):\n",
        "    self.latent_dim = latent_dim\n",
        "    super(Generator, self).__init__()\n",
        "    n_nodes = latent_dim * 7 *7\n",
        "\n",
        "    self.first = tf.keras.layers.Dense(n_nodes, input_dim = latent_dim, activation=None)\n",
        "    self.batch_n1 = tf.keras.layers.BatchNormalization()\n",
        "\n",
        "    self.reshape = tf.keras.layers.Reshape((7,7,latent_dim))\n",
        "    #shape is now (7,7,100)\n",
        "\n",
        "    self.conv1 = tf.keras.layers.Conv2D(filters=100, kernel_size=3, \n",
        "                                          padding = 'same',\n",
        "                                          activation=None\n",
        "                                          )\n",
        "    self.batch_n2 = tf.keras.layers.BatchNormalization()\n",
        "    self.dropout1 = tf.keras.layers.Dropout(rate=0.3)\n",
        "    self.upsampling1 = tf.keras.layers.UpSampling2D((2,2))\n",
        "    \n",
        "    self.conv2 = tf.keras.layers.Conv2D(filters=100, kernel_size=3, \n",
        "                                          padding = 'same',\n",
        "                                          activation=None\n",
        "                                          )\n",
        "    self.batch_n3 = tf.keras.layers.BatchNormalization()\n",
        "    self.dropout2 = tf.keras.layers.Dropout(rate=0.3)\n",
        "    self.conv3 = tf.keras.layers.Conv2D(filters=100, kernel_size=3,\n",
        "                                          padding = 'same',\n",
        "                                          activation=None\n",
        "                                          )\n",
        "    self.upsampling2 = tf.keras.layers.UpSampling2D((2,2))\n",
        "    self.out = tf.keras.layers.Conv2D(filters=1, kernel_size=7,\n",
        "                                          padding = 'same',\n",
        "                                          activation='tanh'\n",
        "                                          )\n",
        "    self.relu = tf.nn.leaky_relu\n",
        "  \n",
        "  @tf.function\n",
        "  def call(self, x, training=True):\n",
        "    x = self.first(x)\n",
        "    x = self.relu(x)\n",
        "    x = self.batch_n1(x)\n",
        "    x = self.reshape(x)\n",
        "    x = self.conv1(x)\n",
        "    x = self.relu(x)\n",
        "    x = self.batch_n2(x)\n",
        "    x = self.dropout1(x)\n",
        "    x = self.upsampling1(x)\n",
        "    x = self.conv2(x)\n",
        "    x = self.relu(x)\n",
        "    x = self.batch_n3(x)\n",
        "    x = self.dropout2(x)\n",
        "    x = self.conv3(x)\n",
        "    x = self.relu(x)\n",
        "    x = self.upsampling2(x)\n",
        "    x = self.out(x)\n",
        "    return x"
      ],
      "execution_count": 16,
      "outputs": []
    },
    {
      "cell_type": "code",
      "metadata": {
        "id": "cJMT9PELK-Dc"
      },
      "source": [
        "# Generate samples\n",
        "num_samples = 32\n",
        "# Dimensions\n",
        "latent_dim = 100 \n",
        "\n",
        "# Instantiate objects\n",
        "generator = Generator(latent_dim=latent_dim)\n",
        "discriminator = Discriminator()"
      ],
      "execution_count": 17,
      "outputs": []
    },
    {
      "cell_type": "markdown",
      "metadata": {
        "id": "Ycjl2_E4dezI"
      },
      "source": [
        "###**Training the Convolutional Autoencoder**"
      ]
    },
    {
      "cell_type": "code",
      "metadata": {
        "id": "-rhCT8_FMMtU"
      },
      "source": [
        "# as specified in the tf documentation\n",
        "#these functions calculate the loss for both generator and discriminator\n",
        "cross_entropy = tf.keras.losses.BinaryCrossentropy(from_logits=True)\n",
        "\n",
        "def discriminator_loss(data_set_output,gen_output):\n",
        "    data_set_loss = cross_entropy(tf.ones_like(data_set_output), data_set_output)\n",
        "    gen_loss = cross_entropy(tf.zeros_like(gen_output), gen_output)\n",
        "    loss = data_set_loss + gen_loss\n",
        "    return loss\n",
        "\n",
        "def generator_loss(gen_output):\n",
        "  return cross_entropy(tf.ones_like(gen_output), gen_output)"
      ],
      "execution_count": 18,
      "outputs": []
    },
    {
      "cell_type": "code",
      "metadata": {
        "id": "l8Aqx5Cv-22O"
      },
      "source": [
        "# adaptep from the tf documentation\n",
        "def train_step(input,optimizer_generator,optimizer_discriminator):\n",
        "  noise = tf.random.normal([num_samples, latent_dim])\n",
        "  with tf.GradientTape() as tape_generator,tf.GradientTape() as tape_discriminator:\n",
        "    \n",
        "    #contain generated images returned by the generator\n",
        "    gen_images=generator(noise)\n",
        "    #contains the output after having proccesed one of the images from the dataset\n",
        "\n",
        "    data_set_output=discriminator(input)\n",
        "    gen_output=discriminator(gen_images)\n",
        "\n",
        "    generator_l= generator_loss(gen_output)\n",
        "    discriminator_l=discriminator_loss(data_set_output,gen_output )\n",
        "\n",
        "  gradients_generator = tape_generator.gradient(generator_l, generator.trainable_variables)\n",
        "  gradients_discriminator = tape_discriminator.gradient(discriminator_l, discriminator.trainable_variables)\n",
        "\n",
        "  optimizer_generator.apply_gradients(zip(gradients_generator, generator.trainable_variables))\n",
        "  optimizer_discriminator.apply_gradients(zip(gradients_discriminator, discriminator.trainable_variables))\n",
        "\n",
        "  # retrieve losses\n",
        "  return generator_l, discriminator_l"
      ],
      "execution_count": 19,
      "outputs": []
    },
    {
      "cell_type": "code",
      "metadata": {
        "id": "0ogwD1qhOtfJ"
      },
      "source": [
        "# Plot training and test loss.\n",
        "def plot_loss(train_losses,test_losses):\n",
        "  plt.figure()\n",
        "  line1, = plt.plot(train_losses)\n",
        "  line2, = plt.plot(test_losses)\n",
        "  plt.title(f'Total test loss: {np.min(test_losses)}')\n",
        "  plt.xlabel(\"Training steps\")\n",
        "  plt.ylabel(\"Loss\")\n",
        "  plt.legend((line1,line2),(\"training\",\"test\"))\n",
        "  plt.show()"
      ],
      "execution_count": 20,
      "outputs": []
    },
    {
      "cell_type": "code",
      "metadata": {
        "id": "eYqKrJQsQjFU"
      },
      "source": [
        "# adapted from the tf documentation\n",
        "def generate_and_save_images(model, epoch, test_input):\n",
        "  \n",
        "  # This is so all layers run in inference mode (batchnorm).\n",
        "  predictions = model(test_input, training=False)\n",
        "\n",
        "  fig = plt.figure(figsize=(10,10))\n",
        "\n",
        "  for i in range(predictions.shape[0]):\n",
        "\n",
        "    plt.subplot(len(test_input)/4, len(test_input)/4, i + 1)\n",
        "    plt.imshow(predictions[i, :, :, 0], cmap='gray')\n",
        "    plt.axis('off')\n",
        "  plt.show()\n"
      ],
      "execution_count": 21,
      "outputs": []
    },
    {
      "cell_type": "code",
      "metadata": {
        "colab": {
          "base_uri": "https://localhost:8080/",
          "height": 627
        },
        "id": "mzu3XQ_D-8Z_",
        "outputId": "e2290d5d-10e8-4c69-9280-00fd0abdc6e8"
      },
      "source": [
        "import time\n",
        "tf.keras.backend.clear_session()\n",
        "### Hyperparameters\n",
        "num_epochs = 15\n",
        "learning_rate = 0.001\n",
        "optimizer_generator=tf.keras.optimizers.Adam(learning_rate)\n",
        "optimizer_discriminator=tf.keras.optimizers.Adam(learning_rate)\n",
        "\n",
        "seed = tf.random.normal([num_samples, latent_dim])\n",
        "\n",
        "\n",
        "# Set the time\n",
        "start = time.time()\n",
        "\n",
        "generator_losses = []\n",
        "discriminator_losses = []\n",
        "for epoch in range(0, num_epochs + 1):\n",
        "\n",
        "    for input in train_dataset:\n",
        "      generator_l, discriminator_l = train_step(input,optimizer_generator,optimizer_discriminator)\n",
        "    generator_losses.append(generator_l)\n",
        "    discriminator_losses.append(discriminator_l)\n",
        "      \n",
        "    # Clear after new epoch\n",
        "    display.clear_output(wait=True)\n",
        "    print(f'Epoch: _{epoch}')\n",
        "    generate_and_save_images(generator, epoch +1, seed)\n",
        "    plot_loss(generator_losses, discriminator_losses)\n",
        "\n",
        "\n",
        "    \n",
        "\n",
        "# Keep track of the time \n",
        "end = time.time()\n",
        "duration = end - start\n",
        "\n",
        "print(f'\\nThis training took: {int (duration / 60)} minutes and {(duration % 60)} seconds.')"
      ],
      "execution_count": 23,
      "outputs": [
        {
          "output_type": "stream",
          "text": [
            "Epoch: _15\n"
          ],
          "name": "stdout"
        },
        {
          "output_type": "display_data",
          "data": {
            "image/png": "[encoded data removed]",
            "text/plain": [
              "<Figure size 720x720 with 32 Axes>"
            ]
          },
          "metadata": {
            "tags": [],
            "needs_background": "light"
          }
        },
        {
          "output_type": "display_data",
          "data": {
            "image/png": "[encoded data removed]",
            "text/plain": [
              "<Figure size 432x288 with 1 Axes>"
            ]
          },
          "metadata": {
            "tags": [],
            "needs_background": "light"
          }
        },
        {
          "output_type": "stream",
          "text": [
            "\n",
            "This training took: 15 minutes and 4.520409345626831 seconds.\n"
          ],
          "name": "stdout"
        }
      ]
    }
  ]
}