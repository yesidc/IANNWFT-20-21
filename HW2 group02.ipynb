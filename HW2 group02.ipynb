{
 "cells": [
  {
   "cell_type": "markdown",
   "metadata": {},
   "source": [
    "# Homework 02 \n",
    "## IANNWFT 20/21\n",
    "## Group 02"
   ]
  },
  {
   "cell_type": "markdown",
   "metadata": {
    "id": "8D0HUwWAEKeM"
   },
   "source": [
    "## Perceptron Logical Gates\n",
    "\n",
    "In this notebook we implement a Multi-layer perceptron and train it to solve logical gates. Specifically, we focus on the implementation of the backpropagation algorithm in order to solve the XOR problem. \n",
    "\n",
    "That means, e.g. for the AND gate, if we put in a 0 and a 1, the perceptron should output 0. It should only output 1 if the input was (1,1).\n",
    "\n",
    "For the XOR gate, the Perceptron should return 1 if only one of the inputs was 1 and the other one 0 -->  (0,1) or (1,0). For (0,0) and (1,1) it should return 0.\n",
    "\n",
    "And so on..."
   ]
  },
  {
   "cell_type": "code",
   "execution_count": 169,
   "metadata": {
    "id": "7euT0HdQEKeR"
   },
   "outputs": [],
   "source": [
    "# Import numpy\n",
    "import numpy as np "
   ]
  },
  {
   "cell_type": "markdown",
   "metadata": {},
   "source": [
    "## Logical Gates"
   ]
  },
  {
   "cell_type": "code",
   "execution_count": 170,
   "metadata": {
    "id": "8bO7NpCDEKej"
   },
   "outputs": [],
   "source": [
    "# To make sure that you get the implementation right let us first have a look at the data structure.\n",
    "# These are the four possible input pairs of (x1,x2).\n",
    "x = np.array([[0,0],[0,1],[1,0],[1,1]])\n",
    "\n",
    "# These are the possible labels form some logical gates.\n",
    "t_and = np.array([0,0,0,1])\n",
    "t_or = np.array([0,1,1,1])\n",
    "t_nand = np.array([1,1,1,0])\n",
    "t_nor = np.array([1,0,0,0])\n",
    "t_xor = np.array([0,1,1,0])"
   ]
  },
  {
   "cell_type": "markdown",
   "metadata": {
    "id": "0_PT3Q_gEKer"
   },
   "source": [
    "## Implement the Perceptron."
   ]
  },
  {
   "cell_type": "code",
   "execution_count": 171,
   "metadata": {
    "id": "pDWFmomzEKet"
   },
   "outputs": [],
   "source": [
    "class Perceptron:\n",
    "    ''' Implements a single perceptron handling its own weights and bias.\n",
    "    \n",
    "    Attributes:\n",
    "    ----------\n",
    "        input_units (int): \n",
    "            size of input vector resulting in the number of weights for the perceptron.\n",
    "        weights (float): \n",
    "            weights for the perceptron.\n",
    "        bias (float, int): \n",
    "            bias for the perceptron.\n",
    "        alpha (int): \n",
    "            learning rate.\n",
    "        last_input (ndarray):\n",
    "            last imput of the perceptron\n",
    "        last_weighted_sum (float, ndarray, int):\n",
    "            last weighted sum before passing through activation function\n",
    "        last_activation (float):\n",
    "            last activation after passing through activation function\n",
    "        last_delta (float, int):\n",
    "            last (updated) delta \n",
    "    \n",
    "    Methods:\n",
    "    --------\n",
    "        sigmoid(self, activations):\n",
    "            computes the sigmoid (sigma(t)=1/1+e^(-t)) of the activation given (e.i., the weighted sum)\n",
    "        sigmoid_prime(self, activations):\n",
    "            calculates the derivative of the sigmoid fucntion for a specific activation (e.i., the weighted sum)\n",
    "        forward_step(self, input):\n",
    "            performs a perceptron forward step\n",
    "        update(self, delta):\n",
    "            update the weights and bias based on the delta error.\n",
    "    '''\n",
    "\n",
    "    def __init__(self, input_units):\n",
    "        ''' \n",
    "        Arguments:\n",
    "        ---------\n",
    "        input_units:\n",
    "            size of input vector resulting in the number of weights for the perceptron.\n",
    "        \n",
    "        '''\n",
    "        self.input_units = input_units\n",
    "\n",
    "        # 1. Initialize random weights and a random bias term. Check 'np.random.randn()'.\n",
    "        self.weights = np.random.randn(input_units)\n",
    "        self.bias = np.random.randn()\n",
    "\n",
    "        # 2. Define the learning rate as 1.\n",
    "        self.alpha = 1\n",
    "\n",
    "    def sigmoid(self, activations):\n",
    "        ''' Implements the Sigmoid activation funtion computing sigma(t)=1/1+e^(-t)\n",
    "        \n",
    "        Arguments:\n",
    "        ---------\n",
    "        activations (float):\n",
    "            the weighted sum of the perceptron\n",
    "        '''\n",
    "        # Implementes Sigmoid activation function\n",
    "        return 1 / (1 + np.exp(-activations))\n",
    "    \n",
    "    def sigmoid_prime(self, activations):\n",
    "        '''Calculates the derivative of the sigmoid function taking as its \n",
    "        argument the activations.\n",
    "        \n",
    "        Argument:\n",
    "        --------\n",
    "        activations (float):\n",
    "            the weighted sum\n",
    "        '''\n",
    "        return self.sigmoid(activations) * (1 - self.sigmoid(activations))\n",
    "\n",
    "    def forward_step(self, input):\n",
    "        ''' Perform a perceptron forward step\n",
    "        \n",
    "        Arguments:\n",
    "        ---------\n",
    "        input (float):\n",
    "            an array of numbers on which to performe the forward calculation (initially 0 and 1)\n",
    "            \n",
    "        '''\n",
    "        self.last_input = input\n",
    "\n",
    "        # Perform a perceptron forward step.\n",
    "        weighted_sum = self.weights @ input + self.bias\n",
    "        self.last_weighted_sum = weighted_sum\n",
    "\n",
    "        # 2. Return a 1 or a 0, depending on whether the perceptron\n",
    "        # surpassed the threshold as defined by the activation function\n",
    "        self.last_activation = self.sigmoid(weighted_sum)\n",
    "        return self.last_activation\n",
    "\n",
    "    def update(self, delta):\n",
    "        '''Updates both the bias and the weights\n",
    "        Argument:\n",
    "        ---------\n",
    "        delta (float):\n",
    "            the error needed to compute the derivatives with respect to any weight\n",
    "        '''\n",
    "        self.last_delta = delta\n",
    "        self.weights -= self.alpha * delta * self.last_input\n",
    "        self.bias -= self.alpha * delta * 1\n",
    "\n",
    "    "
   ]
  },
  {
   "cell_type": "markdown",
   "metadata": {},
   "source": [
    "## Implement the Multi-layer Perceptron"
   ]
  },
  {
   "cell_type": "code",
   "execution_count": 172,
   "metadata": {},
   "outputs": [],
   "source": [
    "class MLP():\n",
    "    ''' Implements a Multi-layer Perceptron for any number of layer and any number of perceptrons.\n",
    "    For simplicity, we assumme only 1 hidden layer and 4 perceptrons. When not specified, \n",
    "    these will be the default values.\n",
    "    \n",
    "    Attributes:\n",
    "    ----------\n",
    "        layers (list): \n",
    "            layers in the network\n",
    "        output (object):\n",
    "            reference to the output perceptron\n",
    "    \n",
    "    Methods:\n",
    "    -------\n",
    "        forward_step(self, input):\n",
    "            propagate forward through the layers\n",
    "        backprop_step(self, label):\n",
    "            propagate backward through the layers\n",
    "    '''\n",
    "    def __init__(self, input_units, num_layers=1, num_perceptrons=4):\n",
    "        '''\n",
    "        Argument:\n",
    "        --------\n",
    "            input_units (int):\n",
    "                size of input vector resulting in the number of weights for the perceptron\n",
    "            num_layers (int):\n",
    "                layers in the network\n",
    "            num_perceptrons (int):\n",
    "                perceptrons per hidden layer\n",
    "        '''\n",
    "        # We assume 1 or many layers of perceptrons, all layers have the same number of perceptrons for simplicity\n",
    "        self.layers = []\n",
    "\n",
    "        # We initialize each layer of perceptrons\n",
    "        for layer in range(num_layers + 1):\n",
    "            p = []\n",
    "            for n in range(num_perceptrons):\n",
    "                # In the first layer each perceptron has 'input_units' number of inputs\n",
    "                if layer == 0:\n",
    "                    p.append(Perceptron(input_units))\n",
    "                # In the latter layers each perceptron has 'num_perceptrons' number of inputs\n",
    "                elif layer < num_layers:\n",
    "                    p.append(Perceptron(num_perceptrons))\n",
    "                # We also initialize a single final output perceptron with 'num_perceptrons' number of inputs\n",
    "                else:\n",
    "                    p.append(Perceptron(num_perceptrons))\n",
    "                    break\n",
    "            self.layers.append(p)\n",
    "\n",
    "        # Create a quick reference to the output perceptron as we need it quite often\n",
    "        self.output = self.layers[num_layers][0]\n",
    "\n",
    "    def forward_step(self, input):\n",
    "        ''' Propagate forward through the layers of the network\n",
    "        Argument:\n",
    "        --------\n",
    "            input (list):\n",
    "                activations of the previous layer\n",
    "        '''\n",
    "        # We propagate forward through the layers\n",
    "        for i, layer in enumerate(self.layers):\n",
    "            # In the first layer, we simply run the forward step with the input\n",
    "            if i == 0:\n",
    "                activations = input\n",
    "            # In the latter layers, we get the input from the previous layers output\n",
    "            else:\n",
    "                activations = []\n",
    "                for m in self.layers[i-1]:\n",
    "                    activations.append(m.last_activation)\n",
    "\n",
    "            # Now propate the forward step to the current layer's perceptrons\n",
    "            for n in layer:\n",
    "                n.forward_step(np.reshape(activations, newshape=(-1)))\n",
    "\n",
    "        # Store the output value\n",
    "        return self.output.last_activation\n",
    "\n",
    "    def backprop_step(self, label):\n",
    "        ''' Propagate backward through the layers of the network\n",
    "        Argument:\n",
    "        --------\n",
    "            label (int):\n",
    "                desired output or target.\n",
    "        '''\n",
    "        # We propagate backward through the layers\n",
    "        for l in reversed(range(len(self.layers))):\n",
    "            # For the output layer we run a special delta function\n",
    "            if l == len(self.layers) - 1:\n",
    "                delta = -(label - self.output.last_activation) * self.output.sigmoid_prime(self.output.last_weighted_sum)\n",
    "                self.output.update(delta)\n",
    "            # For the hidden layers we run an alternate delta function\n",
    "            else:\n",
    "                for i, n in enumerate(self.layers[l]):\n",
    "                    delta = 0\n",
    "                    for j in self.layers[l+1]:\n",
    "                        delta += j.last_delta * j.weights[i]\n",
    "                    delta *= n.sigmoid_prime(n.last_weighted_sum)\n",
    "                    n.update(delta)        \n"
   ]
  },
  {
   "cell_type": "markdown",
   "metadata": {},
   "source": [
    "## Training and Visualization of the MLP\n",
    "\n",
    "Now, after having implemented the MLP, let's train it by creating an instance of the MLP class consisting of 1 hidden layer and 4 perceptrons for 1000 epochs. We will train this MLP instance on all logical gates while at the same time visualizing the training progress for each gate. "
   ]
  },
  {
   "cell_type": "code",
   "execution_count": 174,
   "metadata": {},
   "outputs": [
    {
     "name": "stdout",
     "output_type": "stream",
     "text": [
      "\n",
      "New Gate:\n",
      "Input: [0 0] \t True Label: 0 \t Network's Prediction: 0.005205\n",
      "Input: [0 1] \t True Label: 0 \t Network's Prediction: 0.084300\n",
      "Input: [1 0] \t True Label: 0 \t Network's Prediction: 0.086370\n",
      "Input: [1 1] \t True Label: 1 \t Network's Prediction: 0.894114\n"
     ]
    },
    {
     "data": {
      "image/png": "[encoded data removed]",
      "text/plain": [
       "<Figure size 432x288 with 1 Axes>"
      ]
     },
     "metadata": {
      "needs_background": "light"
     },
     "output_type": "display_data"
    },
    {
     "name": "stdout",
     "output_type": "stream",
     "text": [
      "\n",
      "New Gate:\n",
      "Input: [0 0] \t True Label: 0 \t Network's Prediction: 0.075965\n",
      "Input: [0 1] \t True Label: 1 \t Network's Prediction: 0.949748\n",
      "Input: [1 0] \t True Label: 1 \t Network's Prediction: 0.951601\n",
      "Input: [1 1] \t True Label: 1 \t Network's Prediction: 0.994933\n"
     ]
    },
    {
     "data": {
      "image/png": "[encoded data removed]",
      "text/plain": [
       "<Figure size 432x288 with 1 Axes>"
      ]
     },
     "metadata": {
      "needs_background": "light"
     },
     "output_type": "display_data"
    },
    {
     "name": "stdout",
     "output_type": "stream",
     "text": [
      "\n",
      "New Gate:\n",
      "Input: [0 0] \t True Label: 1 \t Network's Prediction: 0.998082\n",
      "Input: [0 1] \t True Label: 1 \t Network's Prediction: 0.937586\n",
      "Input: [1 0] \t True Label: 1 \t Network's Prediction: 0.934127\n",
      "Input: [1 1] \t True Label: 0 \t Network's Prediction: 0.091979\n"
     ]
    },
    {
     "data": {
      "image/png": "[encoded data removed]",
      "text/plain": [
       "<Figure size 432x288 with 1 Axes>"
      ]
     },
     "metadata": {
      "needs_background": "light"
     },
     "output_type": "display_data"
    },
    {
     "name": "stdout",
     "output_type": "stream",
     "text": [
      "\n",
      "New Gate:\n",
      "Input: [0 0] \t True Label: 1 \t Network's Prediction: 0.918902\n",
      "Input: [0 1] \t True Label: 0 \t Network's Prediction: 0.055548\n",
      "Input: [1 0] \t True Label: 0 \t Network's Prediction: 0.062736\n",
      "Input: [1 1] \t True Label: 0 \t Network's Prediction: 0.019734\n"
     ]
    },
    {
     "data": {
      "image/png": "[encoded data removed]",
      "text/plain": [
       "<Figure size 432x288 with 1 Axes>"
      ]
     },
     "metadata": {
      "needs_background": "light"
     },
     "output_type": "display_data"
    },
    {
     "name": "stdout",
     "output_type": "stream",
     "text": [
      "\n",
      "New Gate:\n",
      "Input: [0 0] \t True Label: 0 \t Network's Prediction: 0.091708\n",
      "Input: [0 1] \t True Label: 1 \t Network's Prediction: 0.845048\n",
      "Input: [1 0] \t True Label: 1 \t Network's Prediction: 0.829107\n",
      "Input: [1 1] \t True Label: 0 \t Network's Prediction: 0.130953\n"
     ]
    },
    {
     "data": {
      "image/png": "[encoded data removed]",
      "text/plain": [
       "<Figure size 432x288 with 1 Axes>"
      ]
     },
     "metadata": {
      "needs_background": "light"
     },
     "output_type": "display_data"
    }
   ],
   "source": [
    "# Create a list with the targets we want to trian on\n",
    "ts = [t_and, t_or, t_nand, t_nor, t_xor]\n",
    "\n",
    "# Create a list with all names of the gates for later plotting\n",
    "t_names = ['Graph AND', 'Graph OR', 'Graph NAND', 'Graph NOR', 'Graph XOR']\n",
    "\n",
    "\n",
    "# Iterate over the targets to train on and keep track of each iteration for later plotting\n",
    "for counter, t in enumerate (ts):\n",
    "    # Initialize a MLP.\n",
    "    mlp = MLP(2, num_layers=1, num_perceptrons=4)\n",
    "    \n",
    "    # Initialize lists to store steps and performance\n",
    "    steps = []\n",
    "    accuracies = []\n",
    "\n",
    "    # We train for 1000 steps as specified in the homework\n",
    "    for i in range(1000):\n",
    "        steps.append(i)\n",
    "\n",
    "        # 1. Draw a random sample from x and the corresponding t\n",
    "        index = np.random.randint(len(x))\n",
    "        sample = x[index]\n",
    "        label = t[index]\n",
    "        \n",
    "        # 2. Perform a full training step\n",
    "        mlp.forward_step(sample)\n",
    "        mlp.backprop_step(label)\n",
    "\n",
    "        # Calculate the performance over all four possible inputs.\n",
    "        accuracy_sum = 0\n",
    "        \n",
    "        \n",
    "        for k in range(len(x)):\n",
    "            output = mlp.forward_step(x[k])\n",
    "            # Classification is correct when target is 1 and output from network is greater than 0.5\n",
    "            if t[k] == 1 and output >= 0.5:\n",
    "                accuracy_sum += 1\n",
    "            \n",
    "            # Classification is correct when target is 0 and output is less than 0.5\n",
    "            if t[k] == 0 and output < 0.5:\n",
    "                accuracy_sum += 1\n",
    "        \n",
    "        # Divide through all the training examples\n",
    "        accuracy = accuracy_sum / 4   \n",
    "        # Append correct classification\n",
    "        accuracies.append(accuracy)\n",
    "\n",
    "    print(\"\\n\" + 'New Gate:')\n",
    "    \n",
    "    # Print the predictions of the network\n",
    "    for n in range(len(x)):\n",
    "        output = mlp.forward_step(x[n])\n",
    "        print(\"Input: %s \\t True Label: %d \\t Network's Prediction: %f\" % (np.array2string(x[n]), t[n], output))\n",
    "    \n",
    "    \n",
    "    # Plot the accuracy as a function of the training steps for each logical gate\n",
    "    import matplotlib.pyplot as plt\n",
    "    plt.figure()\n",
    "    plt.plot(steps, accuracies)\n",
    "    plt.xlabel(\"Training Steps\")\n",
    "    plt.ylabel(\"Accuracy\")\n",
    "    plt.ylim([-0.1, 1.2])\n",
    "    plt.title(t_names[counter])\n",
    "    plt.show()\n",
    "    \n",
    "\n"
   ]
  },
  {
   "cell_type": "code",
   "execution_count": null,
   "metadata": {},
   "outputs": [],
   "source": []
  }
 ],
 "metadata": {
  "colab": {
   "collapsed_sections": [],
   "name": "Flipped_classroom02.ipynb",
   "provenance": []
  },
  "kernelspec": {
   "display_name": "Python 3",
   "language": "python",
   "name": "python3"
  },
  "language_info": {
   "codemirror_mode": {
    "name": "ipython",
    "version": 3
   },
   "file_extension": ".py",
   "mimetype": "text/x-python",
   "name": "python",
   "nbconvert_exporter": "python",
   "pygments_lexer": "ipython3",
   "version": "3.7.6"
  }
 },
 "nbformat": 4,
 "nbformat_minor": 1
}
